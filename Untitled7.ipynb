{
 "cells": [
  {
   "cell_type": "code",
   "execution_count": 44,
   "id": "833e1be8",
   "metadata": {},
   "outputs": [
    {
     "name": "stdout",
     "output_type": "stream",
     "text": [
      "Length of the segment: 5.0\n",
      "Slope of the segment: 1.3333333333333333\n"
     ]
    }
   ],
   "source": [
    "#Q21\n",
    "import math\n",
    "\n",
    "class Point:\n",
    "    def __init__(self, x=0, y=0):\n",
    "        self.x = x\n",
    "        self.y = y\n",
    "\n",
    "class Segment:\n",
    "    def __init__(self, point1, point2):\n",
    "        self.point1 = point1\n",
    "        self.point2 = point2\n",
    "\n",
    "    @property\n",
    "    def Length(self):\n",
    "        dx = self.point2.x - self.point1.x\n",
    "        dy = self.point2.y - self.point1.y\n",
    "        return math.sqrt(dx**2 + dy**2)\n",
    "\n",
    "    @property\n",
    "    def Slope(self):\n",
    "        if self.point2.x - self.point1.x == 0:\n",
    "            return None  # Slope is unbounded\n",
    "        else:\n",
    "            return (self.point2.y - self.point1.y) / (self.point2.x - self.point1.x)\n",
    "\n",
    "p1 = Point(3, 4)\n",
    "p2 = Point()\n",
    "s = Segment(p1, p2)\n",
    "\n",
    "length = s.Length\n",
    "slope = s.Slope\n",
    "\n",
    "print(f\"Length of the segment: {length}\")\n",
    "print(f\"Slope of the segment: {slope}\")\n"
   ]
  },
  {
   "cell_type": "code",
   "execution_count": 41,
   "id": "601d15ac",
   "metadata": {},
   "outputs": [
    {
     "ename": "SyntaxError",
     "evalue": "invalid syntax (844683403.py, line 19)",
     "output_type": "error",
     "traceback": [
      "\u001b[0;36m  Cell \u001b[0;32mIn[41], line 19\u001b[0;36m\u001b[0m\n\u001b[0;31m    SELECT w2.id\u001b[0m\n\u001b[0m           ^\u001b[0m\n\u001b[0;31mSyntaxError\u001b[0m\u001b[0;31m:\u001b[0m invalid syntax\n"
     ]
    }
   ],
   "source": [
    "#Q22\n",
    "import sqlite3\n",
    "\n",
    "conn = sqlite3.connect('weather_data.db')\n",
    "cur = conn.cursor()\n",
    "\n",
    "cur.execute()\n",
    "data = [\n",
    "    (1, '2015-01-01', 10),\n",
    "    (2, '2015-01-02', 25),\n",
    "    (3, '2015-01-03', 20),\n",
    "    (4, '2015-01-04', 30),\n",
    "]\n",
    "\n",
    "cur.executemany(\"Insert (id, recordDate, temperature) VALUES (?, ?, ?)\", data)\n",
    "conn.commit()\n",
    "conn.close()\n",
    "\n",
    "SELECT w2.id\n",
    "FROM Weather w1\n",
    "JOIN Weather w2 ON w1.id = w2.id + 1\n",
    "WHERE w2.temperature > w1.temperature;\n",
    "\n"
   ]
  },
  {
   "cell_type": "code",
   "execution_count": 39,
   "id": "7fb52c8d",
   "metadata": {},
   "outputs": [
    {
     "name": "stdout",
     "output_type": "stream",
     "text": [
      "\n",
      "*\n",
      "\n",
      "*\n",
      "**\n",
      " *\n",
      "\n",
      "*\n",
      "**\n",
      " *\n",
      "****\n",
      " *\n",
      " **\n",
      "  *\n"
     ]
    }
   ],
   "source": [
    "#Q23\n",
    "def tough(indent, num):\n",
    "    if num > 0:\n",
    "        tough(indent, num // 2)\n",
    "        print(\" \" * indent + \"*\" * num)\n",
    "        tough(indent + 1, num // 2)\n",
    "\n",
    "# EX:\n",
    "tough(0, 0)\n",
    "print(\"\")\n",
    "tough(0, 1)\n",
    "print(\"\")\n",
    "tough(0, 2)\n",
    "print(\"\")\n",
    "tough(0, 4)\n"
   ]
  },
  {
   "cell_type": "code",
   "execution_count": null,
   "id": "8edef515",
   "metadata": {},
   "outputs": [],
   "source": []
  }
 ],
 "metadata": {
  "kernelspec": {
   "display_name": "Python 3 (ipykernel)",
   "language": "python",
   "name": "python3"
  },
  "language_info": {
   "codemirror_mode": {
    "name": "ipython",
    "version": 3
   },
   "file_extension": ".py",
   "mimetype": "text/x-python",
   "name": "python",
   "nbconvert_exporter": "python",
   "pygments_lexer": "ipython3",
   "version": "3.11.4"
  }
 },
 "nbformat": 4,
 "nbformat_minor": 5
}
